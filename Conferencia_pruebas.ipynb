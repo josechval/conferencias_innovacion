{
 "cells": [
  {
   "cell_type": "markdown",
   "metadata": {
    "slideshow": {
     "slide_type": "slide"
    }
   },
   "source": [
    "# Niveles de servicio y gestión de incidentes.\n",
    "\n",
    "\n",
    "\n",
    "\n",
    "\n",
    "\n",
    "<img src=\"img/qualtop.png\" width=\"100%\">\n",
    "\n",
    "\n",
    "\n",
    "\n",
    "### José Luis Chiquete Valdvieso\n",
    "### Noviembre 2022"
   ]
  },
  {
   "cell_type": "markdown",
   "metadata": {
    "slideshow": {
     "slide_type": "slide"
    }
   },
   "source": [
    "# ¿Qué es un prueba de software?"
   ]
  },
  {
   "cell_type": "markdown",
   "metadata": {
    "slideshow": {
     "slide_type": "subslide"
    }
   },
   "source": [
    "### ```\"La prueba de software es el proceso de evaluar y verificar que un producto o aplicación de software hace lo que se supone que debe hacer. Los beneficios de las pruebas incluyen la prevención de errores, la reducción de los costos de desarrollo y la mejora del rendimiento.\"```"
   ]
  },
  {
   "cell_type": "markdown",
   "metadata": {
    "slideshow": {
     "slide_type": "slide"
    }
   },
   "source": [
    "# Deuda técnica.\n",
    "\n",
    "Es el costo que implica retrabajar un artefacto por causas de su pobre desarrollo en etapas tempranas del ciclo de vida."
   ]
  },
  {
   "cell_type": "markdown",
   "metadata": {
    "slideshow": {
     "slide_type": "subslide"
    }
   },
   "source": [
    "<img src=\"img/boeing-737-max.png\" width=\"100%\">"
   ]
  },
  {
   "cell_type": "markdown",
   "metadata": {
    "slideshow": {
     "slide_type": "subslide"
    }
   },
   "source": [
    "### ```“El costo es más importante que la calidad, pero la calidad es la mejor manera de reducir el costo.”``` — Genichi Taguchi"
   ]
  },
  {
   "cell_type": "markdown",
   "metadata": {
    "slideshow": {
     "slide_type": "slide"
    }
   },
   "source": [
    "# Desarrollo Dirigido por Pruebas (*TDD*)."
   ]
  },
  {
   "cell_type": "markdown",
   "metadata": {
    "slideshow": {
     "slide_type": "fragment"
    }
   },
   "source": [
    "* Es una práctica cuyo objetivos es lograr un código limpio, seguro y que funcione. "
   ]
  },
  {
   "cell_type": "markdown",
   "metadata": {
    "slideshow": {
     "slide_type": "fragment"
    }
   },
   "source": [
    "* La idea es que los requerimientos sean traducidos en pruebas. De este modo, cuando las pruebas pasen se garantizará que el software cumple con los requerimientos funcionales y no funcionales que se han establecido."
   ]
  },
  {
   "cell_type": "markdown",
   "metadata": {
    "slideshow": {
     "slide_type": "slide"
    }
   },
   "source": [
    "## Escribir las pruebas primero (*Test First Development*).\n",
    "\n"
   ]
  },
  {
   "cell_type": "markdown",
   "metadata": {
    "slideshow": {
     "slide_type": "fragment"
    }
   },
   "source": [
    "* Consiste en crear pruebas para cada funcionalidad que debe cumplir el producto de software."
   ]
  },
  {
   "cell_type": "markdown",
   "metadata": {
    "slideshow": {
     "slide_type": "slide"
    }
   },
   "source": [
    "## El ciclo de vida de *TDD*."
   ]
  },
  {
   "cell_type": "markdown",
   "metadata": {
    "slideshow": {
     "slide_type": "subslide"
    }
   },
   "source": [
    "<img src=\"https://upload.wikimedia.org/wikipedia/commons/0/0b/TDD_Global_Lifecycle.png\" width=\"100%\">\n",
    "\n",
    "Fuente: https://upload.wikimedia.org/wikipedia/commons/0/0b/TDD_Global_Lifecycle.png"
   ]
  },
  {
   "cell_type": "markdown",
   "metadata": {
    "slideshow": {
     "slide_type": "slide"
    }
   },
   "source": [
    "## Aseguramiento de la calidad (*QA*)."
   ]
  },
  {
   "cell_type": "markdown",
   "metadata": {
    "slideshow": {
     "slide_type": "fragment"
    }
   },
   "source": [
    "* El concepto de *QA* implica una serie de métodos y actividades cuyo objetivo es garantizar que el software cumple con las especificaciones requeridas."
   ]
  },
  {
   "cell_type": "markdown",
   "metadata": {
    "slideshow": {
     "slide_type": "fragment"
    }
   },
   "source": [
    "* Las actividades de *QA* también requieren de la realización de pruebas y análisis del código y los binarios durante el ciclo de vida de desarrollo de software."
   ]
  },
  {
   "cell_type": "markdown",
   "metadata": {
    "slideshow": {
     "slide_type": "slide"
    }
   },
   "source": [
    "# Tipos de pruebas."
   ]
  },
  {
   "cell_type": "markdown",
   "metadata": {
    "slideshow": {
     "slide_type": "slide"
    }
   },
   "source": [
    "## Pruebas funcionales.\n",
    "\n",
    "Fuente: https://hackr.io/blog/types-of-software-testing"
   ]
  },
  {
   "cell_type": "markdown",
   "metadata": {
    "slideshow": {
     "slide_type": "subslide"
    }
   },
   "source": [
    "* **Pruebas unitarias.** Evalúan el correcto funcionamiento de cada componente de código.\n",
    "    * **mock** es un objeto que simula las características de un objeto real y que es utilizado para realizar las pruebas unitarias. \n",
    "    * **stub** es un objeto que permite emular las interfaces, formatos y respuestas predeterminadas de un sistema externo, de tal forma que se puedan realizar pruebas en un entorno simplificado. \n",
    "    * **code coverage** es el procentaje de código que es sujeto de prueba durante la ejecución de las pruebas unitarias. "
   ]
  },
  {
   "cell_type": "markdown",
   "metadata": {
    "slideshow": {
     "slide_type": "subslide"
    }
   },
   "source": [
    "* **Pruebas de integración.** Evalúan el funcionamiento del sistema a partir de la inclusión de nuevos componentes."
   ]
  },
  {
   "cell_type": "markdown",
   "metadata": {
    "slideshow": {
     "slide_type": "subslide"
    }
   },
   "source": [
    "* **Pruebas de extremo a extremo**. Evalúa que cada componente de software de un proceso funciones correctamente de principio a fin."
   ]
  },
  {
   "cell_type": "markdown",
   "metadata": {
    "slideshow": {
     "slide_type": "subslide"
    }
   },
   "source": [
    "* **Pruebas de humo**. Son pruebas no exhaustivas que se le hacen a un producto de software previo a su liberación a producción para validar que las funcionalidades primordiales funcionan correctamente."
   ]
  },
  {
   "cell_type": "markdown",
   "metadata": {
    "slideshow": {
     "slide_type": "subslide"
    }
   },
   "source": [
    "* **Pruebas de aceptación (*UAT*)**. Son pruebas que validan la funcionalidad del producto ante el cliente."
   ]
  },
  {
   "cell_type": "markdown",
   "metadata": {
    "slideshow": {
     "slide_type": "subslide"
    }
   },
   "source": [
    "* **Pruebas de regresión**. Son pruebas exhaustivas que se hacen para validar que el sistema funciona correctamente después de cierto tiempo de estar en producción. "
   ]
  },
  {
   "cell_type": "markdown",
   "metadata": {
    "slideshow": {
     "slide_type": "slide"
    }
   },
   "source": [
    "## Pruebas no funcionales."
   ]
  },
  {
   "cell_type": "markdown",
   "metadata": {
    "slideshow": {
     "slide_type": "subslide"
    }
   },
   "source": [
    "* **Pruebas de seguridad**. Evalúan las posibles vulnerabilidades de un sistema."
   ]
  },
  {
   "cell_type": "markdown",
   "metadata": {
    "slideshow": {
     "slide_type": "subslide"
    }
   },
   "source": [
    "* **Pruebas de compatibilidad**. Evalúan si un sistema puede interactuar adecuadamente con otros."
   ]
  },
  {
   "cell_type": "markdown",
   "metadata": {
    "slideshow": {
     "slide_type": "subslide"
    }
   },
   "source": [
    "* **Pruebas de rendimiento**. Evalúan el uso de recursos de un sistema."
   ]
  },
  {
   "cell_type": "markdown",
   "metadata": {
    "slideshow": {
     "slide_type": "subslide"
    }
   },
   "source": [
    "* **Pruebas de escalabilidad**. Evalúan la capacidad de crecer en cuestión de recursos de un sistema."
   ]
  },
  {
   "cell_type": "markdown",
   "metadata": {
    "slideshow": {
     "slide_type": "subslide"
    }
   },
   "source": [
    "* **Pruebas de carga**. Evalúan la capacidad de un sistema ante cierto tipo de cargas de uso."
   ]
  },
  {
   "cell_type": "markdown",
   "metadata": {
    "slideshow": {
     "slide_type": "subslide"
    }
   },
   "source": [
    "* **Pruebas de volumen**. Evalúan la capacidad de un sistema de gestionar grandes cantidades de datos."
   ]
  },
  {
   "cell_type": "markdown",
   "metadata": {
    "slideshow": {
     "slide_type": "subslide"
    }
   },
   "source": [
    "* **Pruebas de fallo**. Evalúan la resiliencia de un sistema."
   ]
  },
  {
   "cell_type": "markdown",
   "metadata": {
    "slideshow": {
     "slide_type": "subslide"
    }
   },
   "source": [
    "* **Pruebas de estrés**. Evalúan el comportamiento de un sistema cuando se encuentra al límite de sus capacidades."
   ]
  },
  {
   "cell_type": "markdown",
   "metadata": {
    "slideshow": {
     "slide_type": "subslide"
    }
   },
   "source": [
    "* **Pruebas de resistencia**. Evalúa la operación del sistema con cargas máximas en tiempos largos. "
   ]
  },
  {
   "cell_type": "markdown",
   "metadata": {
    "slideshow": {
     "slide_type": "subslide"
    }
   },
   "source": [
    "* **Pruebas de recuperación ante desastres**. Evalúa la capacidad de un sistema para restablecer sus funcionalidades en caso de una emergencia crítica, así como de mitgar riesgos."
   ]
  },
  {
   "cell_type": "markdown",
   "metadata": {
    "slideshow": {
     "slide_type": "subslide"
    }
   },
   "source": [
    "* **Pruebas de eficiencia**. Evalúan si el sistema cumple con los objetivos funcionales en tiempo razonable."
   ]
  },
  {
   "cell_type": "markdown",
   "metadata": {
    "slideshow": {
     "slide_type": "subslide"
    }
   },
   "source": [
    "* **Pruebas de mantenibilidad**. Evalúan la facilidad de mantenimiento de un sistema. "
   ]
  },
  {
   "cell_type": "markdown",
   "metadata": {
    "slideshow": {
     "slide_type": "subslide"
    }
   },
   "source": [
    "* **Pruebas de usabilidad**. Evalúan la experiencia general del uso de un sistema."
   ]
  },
  {
   "cell_type": "markdown",
   "metadata": {
    "slideshow": {
     "slide_type": "subslide"
    }
   },
   "source": [
    "* **Pruebas de cumplimiento (compliance)**. Evalúan si un sistema cumple con la normatividad aplicable."
   ]
  },
  {
   "cell_type": "markdown",
   "metadata": {
    "slideshow": {
     "slide_type": "subslide"
    }
   },
   "source": [
    "* **Pruebas de confiabilidad** Evalúan la disponibilidad y madurez de los procesos dentro del sistema."
   ]
  },
  {
   "cell_type": "markdown",
   "metadata": {
    "slideshow": {
     "slide_type": "subslide"
    }
   },
   "source": [
    "* **Pruebas de localización**. Evalúa la capacidad de un sistema de poder ofercer servicios homogeneos a usuarios de diversas zonas geográficas."
   ]
  },
  {
   "cell_type": "markdown",
   "metadata": {
    "slideshow": {
     "slide_type": "subslide"
    }
   },
   "source": [
    "* **Pruebas de internacionalización**. Evalúa la capacidad de un sistema de poder ofercer servicios homogeneos a usuarios de diversas zonas geográficas a novel internacional."
   ]
  },
  {
   "cell_type": "markdown",
   "metadata": {
    "slideshow": {
     "slide_type": "slide"
    }
   },
   "source": [
    "# Las pruebas en *DevSecOps*."
   ]
  },
  {
   "cell_type": "markdown",
   "metadata": {
    "slideshow": {
     "slide_type": "fragment"
    }
   },
   "source": [
    "* *DevSecOps* consiste en automatizar y grantizar la seguridad de todo aquello que no agrega valor, con la finalidad de que los equipos de trabajo multidisciplinarios se enfoquen en actividades que enriquezcan al producto de software."
   ]
  },
  {
   "attachments": {
    "image.png": {
     "image/png": "[encoded data removed]"
    }
   },
   "cell_type": "markdown",
   "metadata": {
    "slideshow": {
     "slide_type": "subslide"
    }
   },
   "source": [
    "![image.png](attachment:image.png)"
   ]
  },
  {
   "cell_type": "markdown",
   "metadata": {
    "slideshow": {
     "slide_type": "subslide"
    }
   },
   "source": [
    "* Bajo la premisa de *DevSecOps*, las pruebas son parte fundamental de un *pipeline* de *CI/CD*."
   ]
  },
  {
   "cell_type": "markdown",
   "metadata": {
    "slideshow": {
     "slide_type": "slide"
    }
   },
   "source": [
    "# Pruebas de despliegue."
   ]
  },
  {
   "cell_type": "markdown",
   "metadata": {
    "slideshow": {
     "slide_type": "subslide"
    }
   },
   "source": [
    "* **A/B testing**. Consiste en comparar dos versiones de una misma página web o aplicación para comprobar cuál de las dos versiones es más eficiente. Su objetivo principal es el de experimentar nuevas funcionalidades."
   ]
  },
  {
   "cell_type": "markdown",
   "metadata": {
    "slideshow": {
     "slide_type": "subslide"
    }
   },
   "source": [
    "* **Blue green deployment**. es un modelo de liberación que transfiere gradualmente el tráfico de usuarios de una versión previa de una aplicación (*blue*) a una nueva versión prácticamente idéntica (*green*). Ambas  versiones están desplegadas en producción."
   ]
  },
  {
   "cell_type": "markdown",
   "metadata": {
    "slideshow": {
     "slide_type": "subslide"
    }
   },
   "source": [
    "* **Canary deployment**. es un modelo de liberación que expone a un pequeño y selecto grupo de usuarios a una nueva versión de una aplicación en producción. "
   ]
  },
  {
   "cell_type": "markdown",
   "metadata": {
    "slideshow": {
     "slide_type": "subslide"
    }
   },
   "source": [
    "# Desarrollo dirigido por comportamiento (*BDD*)."
   ]
  },
  {
   "cell_type": "markdown",
   "metadata": {
    "slideshow": {
     "slide_type": "fragment"
    }
   },
   "source": [
    "* *BDD* es un proceso propio de desarrollo ágil, el cual permite facilitar la interacción entre los desarrolladores, testers y *QA* con los clientes."
   ]
  },
  {
   "cell_type": "markdown",
   "metadata": {
    "slideshow": {
     "slide_type": "fragment"
    }
   },
   "source": [
    "* Consiste en \"traducir\" las especificaciones de un sistema descritas en lenguaje coloquial a código capaz de evaluar dichas especificaciones."
   ]
  },
  {
   "cell_type": "markdown",
   "metadata": {
    "slideshow": {
     "slide_type": "subslide"
    }
   },
   "source": [
    "### Gherkin.\n",
    "\n",
    "Gherkin es un lenguaje de dominio específico que permite ligar ciertas palabras que definen funcionalidades, escenarios, condiciones y acciones descritas en lenguaje natural que pueden ser transformadas en métodos o funciones de prueba.\n",
    "\n",
    "https://www.itdo.com/blog/ejemplos-bdd-behavior-driven-development-con-gherkin/"
   ]
  },
  {
   "cell_type": "markdown",
   "metadata": {
    "slideshow": {
     "slide_type": "subslide"
    }
   },
   "source": [
    "<img src=\"img/framework-testing.png\" width=\"100%\">"
   ]
  },
  {
   "cell_type": "markdown",
   "metadata": {
    "slideshow": {
     "slide_type": "slide"
    }
   },
   "source": [
    "<p style=\"text-align: center\"><a rel=\"license\" href=\"http://creativecommons.org/licenses/by/4.0/\"><img alt=\"Licencia Creative Commons\" style=\"border-width:0\" src=\"https://i.creativecommons.org/l/by/4.0/80x15.png\" /></a><br />Esta obra está bajo una <a rel=\"license\" href=\"http://creativecommons.org/licenses/by/4.0/\">Licencia Creative Commons Atribución 4.0 Internacional</a>.</p>\n",
    "<p style=\"text-align: center\">&copy; José Luis Chiquete Valdivieso. 2022.</p>"
   ]
  }
 ],
 "metadata": {
  "celltoolbar": "Slideshow",
  "kernelspec": {
   "display_name": "Python 3 (ipykernel)",
   "language": "python",
   "name": "python3"
  },
  "language_info": {
   "codemirror_mode": {
    "name": "ipython",
    "version": 3
   },
   "file_extension": ".py",
   "mimetype": "text/x-python",
   "name": "python",
   "nbconvert_exporter": "python",
   "pygments_lexer": "ipython3",
   "version": "3.10.6"
  }
 },
 "nbformat": 4,
 "nbformat_minor": 4
}
